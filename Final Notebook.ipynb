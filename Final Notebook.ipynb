{
 "cells": [
  {
   "cell_type": "markdown",
   "id": "7dd33f88",
   "metadata": {},
   "source": [
    "## Imports"
   ]
  },
  {
   "cell_type": "code",
   "execution_count": 1,
   "id": "834cd54e",
   "metadata": {},
   "outputs": [],
   "source": [
    "#Base\n",
    "import pandas as pd\n",
    "import numpy as np\n",
    "\n",
    "#others\n",
    "\n",
    "import itertools\n",
    "import string\n",
    "import re\n",
    "\n",
    "#Visuals\n",
    "import matplotlib.pyplot as plt\n",
    "%matplotlib inline\n",
    "\n",
    "import seaborn as sns\n",
    "\n",
    "#warnings\n",
    "import warnings\n",
    "warnings.filterwarnings('ignore')"
   ]
  },
  {
   "cell_type": "code",
   "execution_count": 2,
   "id": "09d1e0fb",
   "metadata": {},
   "outputs": [],
   "source": [
    "#sklearn\n",
    "from sklearn.feature_extraction.text import CountVectorizer\n",
    "from sklearn.feature_extraction.text import TfidfVectorizer\n",
    "from sklearn.base import BaseEstimator, TransformerMixin\n",
    "from sklearn.model_selection import train_test_split\n",
    "from sklearn.decomposition import NMF\n",
    "from sklearn.manifold import TSNE"
   ]
  },
  {
   "cell_type": "code",
   "execution_count": 3,
   "id": "32012756",
   "metadata": {},
   "outputs": [],
   "source": [
    "#nltk\n",
    "import nltk\n",
    "from nltk.probability import FreqDist\n",
    "from nltk.corpus import stopwords, wordnet\n",
    "from nltk.tokenize import regexp_tokenize, word_tokenize, RegexpTokenizer, sent_tokenize\n",
    "from nltk.stem import PorterStemmer, SnowballStemmer, LancasterStemmer\n",
    "from nltk import WordNetLemmatizer, pos_tag"
   ]
  },
  {
   "cell_type": "code",
   "execution_count": 4,
   "id": "289472c1",
   "metadata": {},
   "outputs": [],
   "source": [
    "#gensim\n",
    "import gensim\n",
    "from gensim import corpora\n",
    "from gensim.models import LdaModel\n",
    "from gensim.models import CoherenceModel\n",
    "from gensim.utils import simple_preprocess"
   ]
  },
  {
   "cell_type": "code",
   "execution_count": 5,
   "id": "40eda89a",
   "metadata": {},
   "outputs": [
    {
     "data": {
      "text/html": [
       "<div>\n",
       "<style scoped>\n",
       "    .dataframe tbody tr th:only-of-type {\n",
       "        vertical-align: middle;\n",
       "    }\n",
       "\n",
       "    .dataframe tbody tr th {\n",
       "        vertical-align: top;\n",
       "    }\n",
       "\n",
       "    .dataframe thead th {\n",
       "        text-align: right;\n",
       "    }\n",
       "</style>\n",
       "<table border=\"1\" class=\"dataframe\">\n",
       "  <thead>\n",
       "    <tr style=\"text-align: right;\">\n",
       "      <th></th>\n",
       "      <th>Unnamed: 0</th>\n",
       "      <th>tweet_text</th>\n",
       "      <th>emotion</th>\n",
       "      <th>target</th>\n",
       "      <th>norm_tweet</th>\n",
       "    </tr>\n",
       "  </thead>\n",
       "  <tbody>\n",
       "    <tr>\n",
       "      <th>0</th>\n",
       "      <td>0</td>\n",
       "      <td>.@wesley83 I have a 3G iPhone. After 3 hrs twe...</td>\n",
       "      <td>Negative emotion</td>\n",
       "      <td>1</td>\n",
       "      <td>iphone hr tweet dead need upgrade plugin station</td>\n",
       "    </tr>\n",
       "    <tr>\n",
       "      <th>1</th>\n",
       "      <td>1</td>\n",
       "      <td>@jessedee Know about @fludapp ? Awesome iPad/i...</td>\n",
       "      <td>Positive emotion</td>\n",
       "      <td>0</td>\n",
       "      <td>know awesome ipadiphone app youll likely appre...</td>\n",
       "    </tr>\n",
       "    <tr>\n",
       "      <th>2</th>\n",
       "      <td>2</td>\n",
       "      <td>@swonderlin Can not wait for #iPad 2 also. The...</td>\n",
       "      <td>Positive emotion</td>\n",
       "      <td>0</td>\n",
       "      <td>wait also sale</td>\n",
       "    </tr>\n",
       "    <tr>\n",
       "      <th>3</th>\n",
       "      <td>3</td>\n",
       "      <td>@sxsw I hope this year's festival isn't as cra...</td>\n",
       "      <td>Negative emotion</td>\n",
       "      <td>1</td>\n",
       "      <td>hope year festival isnt crashy year iphone app</td>\n",
       "    </tr>\n",
       "    <tr>\n",
       "      <th>4</th>\n",
       "      <td>4</td>\n",
       "      <td>@sxtxstate great stuff on Fri #SXSW: Marissa M...</td>\n",
       "      <td>Positive emotion</td>\n",
       "      <td>0</td>\n",
       "      <td>great stuff fri mayer google tim oreilly tech ...</td>\n",
       "    </tr>\n",
       "    <tr>\n",
       "      <th>...</th>\n",
       "      <td>...</td>\n",
       "      <td>...</td>\n",
       "      <td>...</td>\n",
       "      <td>...</td>\n",
       "      <td>...</td>\n",
       "    </tr>\n",
       "    <tr>\n",
       "      <th>3543</th>\n",
       "      <td>9077</td>\n",
       "      <td>@mention your PR guy just convinced me to swit...</td>\n",
       "      <td>Positive emotion</td>\n",
       "      <td>0</td>\n",
       "      <td>pr guy convince switch back iphone great coverage</td>\n",
       "    </tr>\n",
       "    <tr>\n",
       "      <th>3544</th>\n",
       "      <td>9079</td>\n",
       "      <td>&amp;quot;papyrus...sort of like the ipad&amp;quot; - ...</td>\n",
       "      <td>Positive emotion</td>\n",
       "      <td>0</td>\n",
       "      <td>quotpapyrussort ipadquot nice lol lavelle</td>\n",
       "    </tr>\n",
       "    <tr>\n",
       "      <th>3545</th>\n",
       "      <td>9080</td>\n",
       "      <td>Diller says Google TV &amp;quot;might be run over ...</td>\n",
       "      <td>Negative emotion</td>\n",
       "      <td>1</td>\n",
       "      <td>diller say google tv quotmight run playstation...</td>\n",
       "    </tr>\n",
       "    <tr>\n",
       "      <th>3546</th>\n",
       "      <td>9085</td>\n",
       "      <td>I've always used Camera+ for my iPhone b/c it ...</td>\n",
       "      <td>Positive emotion</td>\n",
       "      <td>0</td>\n",
       "      <td>ive always use camera iphone bc image stabiliz...</td>\n",
       "    </tr>\n",
       "    <tr>\n",
       "      <th>3547</th>\n",
       "      <td>9088</td>\n",
       "      <td>Ipad everywhere. #SXSW {link}</td>\n",
       "      <td>Positive emotion</td>\n",
       "      <td>0</td>\n",
       "      <td>ipad everywhere link</td>\n",
       "    </tr>\n",
       "  </tbody>\n",
       "</table>\n",
       "<p>3548 rows × 5 columns</p>\n",
       "</div>"
      ],
      "text/plain": [
       "      Unnamed: 0                                         tweet_text  \\\n",
       "0              0  .@wesley83 I have a 3G iPhone. After 3 hrs twe...   \n",
       "1              1  @jessedee Know about @fludapp ? Awesome iPad/i...   \n",
       "2              2  @swonderlin Can not wait for #iPad 2 also. The...   \n",
       "3              3  @sxsw I hope this year's festival isn't as cra...   \n",
       "4              4  @sxtxstate great stuff on Fri #SXSW: Marissa M...   \n",
       "...          ...                                                ...   \n",
       "3543        9077  @mention your PR guy just convinced me to swit...   \n",
       "3544        9079  &quot;papyrus...sort of like the ipad&quot; - ...   \n",
       "3545        9080  Diller says Google TV &quot;might be run over ...   \n",
       "3546        9085  I've always used Camera+ for my iPhone b/c it ...   \n",
       "3547        9088                      Ipad everywhere. #SXSW {link}   \n",
       "\n",
       "               emotion  target  \\\n",
       "0     Negative emotion       1   \n",
       "1     Positive emotion       0   \n",
       "2     Positive emotion       0   \n",
       "3     Negative emotion       1   \n",
       "4     Positive emotion       0   \n",
       "...                ...     ...   \n",
       "3543  Positive emotion       0   \n",
       "3544  Positive emotion       0   \n",
       "3545  Negative emotion       1   \n",
       "3546  Positive emotion       0   \n",
       "3547  Positive emotion       0   \n",
       "\n",
       "                                             norm_tweet  \n",
       "0      iphone hr tweet dead need upgrade plugin station  \n",
       "1     know awesome ipadiphone app youll likely appre...  \n",
       "2                                        wait also sale  \n",
       "3        hope year festival isnt crashy year iphone app  \n",
       "4     great stuff fri mayer google tim oreilly tech ...  \n",
       "...                                                 ...  \n",
       "3543  pr guy convince switch back iphone great coverage  \n",
       "3544          quotpapyrussort ipadquot nice lol lavelle  \n",
       "3545  diller say google tv quotmight run playstation...  \n",
       "3546  ive always use camera iphone bc image stabiliz...  \n",
       "3547                               ipad everywhere link  \n",
       "\n",
       "[3548 rows x 5 columns]"
      ]
     },
     "execution_count": 5,
     "metadata": {},
     "output_type": "execute_result"
    }
   ],
   "source": [
    "#loading processed tweets csv\n",
    "df = pd.read_csv('/Users/kellyjara/Desktop/Project_4/Data/Normalized_tweets.csv')\n",
    "df"
   ]
  },
  {
   "cell_type": "code",
   "execution_count": 6,
   "id": "9d580619",
   "metadata": {},
   "outputs": [],
   "source": [
    "#dropping columns that are not needed\n",
    "df.drop(columns = ['Unnamed: 0', 'tweet_text','emotion'], inplace = True)"
   ]
  },
  {
   "cell_type": "code",
   "execution_count": 7,
   "id": "cd354ddf",
   "metadata": {},
   "outputs": [
    {
     "data": {
      "text/html": [
       "<div>\n",
       "<style scoped>\n",
       "    .dataframe tbody tr th:only-of-type {\n",
       "        vertical-align: middle;\n",
       "    }\n",
       "\n",
       "    .dataframe tbody tr th {\n",
       "        vertical-align: top;\n",
       "    }\n",
       "\n",
       "    .dataframe thead th {\n",
       "        text-align: right;\n",
       "    }\n",
       "</style>\n",
       "<table border=\"1\" class=\"dataframe\">\n",
       "  <thead>\n",
       "    <tr style=\"text-align: right;\">\n",
       "      <th></th>\n",
       "      <th>target</th>\n",
       "      <th>norm_tweet</th>\n",
       "    </tr>\n",
       "  </thead>\n",
       "  <tbody>\n",
       "    <tr>\n",
       "      <th>0</th>\n",
       "      <td>1</td>\n",
       "      <td>iphone hr tweet dead need upgrade plugin station</td>\n",
       "    </tr>\n",
       "    <tr>\n",
       "      <th>1</th>\n",
       "      <td>0</td>\n",
       "      <td>know awesome ipadiphone app youll likely appre...</td>\n",
       "    </tr>\n",
       "    <tr>\n",
       "      <th>2</th>\n",
       "      <td>0</td>\n",
       "      <td>wait also sale</td>\n",
       "    </tr>\n",
       "    <tr>\n",
       "      <th>3</th>\n",
       "      <td>1</td>\n",
       "      <td>hope year festival isnt crashy year iphone app</td>\n",
       "    </tr>\n",
       "    <tr>\n",
       "      <th>4</th>\n",
       "      <td>0</td>\n",
       "      <td>great stuff fri mayer google tim oreilly tech ...</td>\n",
       "    </tr>\n",
       "    <tr>\n",
       "      <th>...</th>\n",
       "      <td>...</td>\n",
       "      <td>...</td>\n",
       "    </tr>\n",
       "    <tr>\n",
       "      <th>3543</th>\n",
       "      <td>0</td>\n",
       "      <td>pr guy convince switch back iphone great coverage</td>\n",
       "    </tr>\n",
       "    <tr>\n",
       "      <th>3544</th>\n",
       "      <td>0</td>\n",
       "      <td>quotpapyrussort ipadquot nice lol lavelle</td>\n",
       "    </tr>\n",
       "    <tr>\n",
       "      <th>3545</th>\n",
       "      <td>1</td>\n",
       "      <td>diller say google tv quotmight run playstation...</td>\n",
       "    </tr>\n",
       "    <tr>\n",
       "      <th>3546</th>\n",
       "      <td>0</td>\n",
       "      <td>ive always use camera iphone bc image stabiliz...</td>\n",
       "    </tr>\n",
       "    <tr>\n",
       "      <th>3547</th>\n",
       "      <td>0</td>\n",
       "      <td>ipad everywhere link</td>\n",
       "    </tr>\n",
       "  </tbody>\n",
       "</table>\n",
       "<p>3548 rows × 2 columns</p>\n",
       "</div>"
      ],
      "text/plain": [
       "      target                                         norm_tweet\n",
       "0          1   iphone hr tweet dead need upgrade plugin station\n",
       "1          0  know awesome ipadiphone app youll likely appre...\n",
       "2          0                                     wait also sale\n",
       "3          1     hope year festival isnt crashy year iphone app\n",
       "4          0  great stuff fri mayer google tim oreilly tech ...\n",
       "...      ...                                                ...\n",
       "3543       0  pr guy convince switch back iphone great coverage\n",
       "3544       0          quotpapyrussort ipadquot nice lol lavelle\n",
       "3545       1  diller say google tv quotmight run playstation...\n",
       "3546       0  ive always use camera iphone bc image stabiliz...\n",
       "3547       0                               ipad everywhere link\n",
       "\n",
       "[3548 rows x 2 columns]"
      ]
     },
     "execution_count": 7,
     "metadata": {},
     "output_type": "execute_result"
    }
   ],
   "source": [
    "df"
   ]
  },
  {
   "cell_type": "markdown",
   "id": "db0fedf6",
   "metadata": {},
   "source": [
    "## Vectorizing"
   ]
  },
  {
   "cell_type": "code",
   "execution_count": 8,
   "id": "40747aba",
   "metadata": {},
   "outputs": [],
   "source": [
    "#Train-Test-Split\n",
    "X = df['norm_tweet']\n",
    "y = df['target']\n",
    "\n",
    "X_train, X_test, y_train, y_test = train_test_split(X, y, test_size = 0.20)"
   ]
  },
  {
   "cell_type": "code",
   "execution_count": 9,
   "id": "8858232c",
   "metadata": {},
   "outputs": [
    {
     "data": {
      "text/plain": [
       "1184    panel quotstaying alive indie iphone game deve...\n",
       "2820      help clean organize newscontent great job owner\n",
       "532     give away ipad creator popular disc interactiv...\n",
       "304     first ipad didnt even exist last year already ...\n",
       "3433          get crave mind create app foodspotting link\n",
       "                              ...                        \n",
       "3052    true rt amp quotgoogle tweetquot new quotthink...\n",
       "1255    mayer come sans intro still get cheer launch g...\n",
       "774     doesnt make sense limit content specific platf...\n",
       "876     geek interactive panel ipad holler gram app us...\n",
       "30      false alarm google circle come nowand probably...\n",
       "Name: norm_tweet, Length: 2838, dtype: object"
      ]
     },
     "execution_count": 9,
     "metadata": {},
     "output_type": "execute_result"
    }
   ],
   "source": [
    "X_train"
   ]
  },
  {
   "cell_type": "markdown",
   "id": "7c757a22",
   "metadata": {},
   "source": [
    "### CountVectorizer"
   ]
  },
  {
   "cell_type": "code",
   "execution_count": 10,
   "id": "70013463",
   "metadata": {},
   "outputs": [
    {
     "data": {
      "text/plain": [
       "array(['abroad', 'absolute', 'abt', ..., 'zagg', 'zip', 'zoom'],\n",
       "      dtype=object)"
      ]
     },
     "execution_count": 10,
     "metadata": {},
     "output_type": "execute_result"
    }
   ],
   "source": [
    "cv = CountVectorizer()\n",
    "cv_X_train = cv.fit_transform(X_train)\n",
    "cv_X_test = cv.fit_transform(X_test)\n",
    "cv.get_feature_names_out()"
   ]
  },
  {
   "cell_type": "markdown",
   "id": "fb9909b6",
   "metadata": {},
   "source": [
    "#### Topic Modeling"
   ]
  },
  {
   "cell_type": "code",
   "execution_count": 11,
   "id": "14025053",
   "metadata": {},
   "outputs": [
    {
     "data": {
      "text/html": [
       "<style>#sk-container-id-1 {color: black;background-color: white;}#sk-container-id-1 pre{padding: 0;}#sk-container-id-1 div.sk-toggleable {background-color: white;}#sk-container-id-1 label.sk-toggleable__label {cursor: pointer;display: block;width: 100%;margin-bottom: 0;padding: 0.3em;box-sizing: border-box;text-align: center;}#sk-container-id-1 label.sk-toggleable__label-arrow:before {content: \"▸\";float: left;margin-right: 0.25em;color: #696969;}#sk-container-id-1 label.sk-toggleable__label-arrow:hover:before {color: black;}#sk-container-id-1 div.sk-estimator:hover label.sk-toggleable__label-arrow:before {color: black;}#sk-container-id-1 div.sk-toggleable__content {max-height: 0;max-width: 0;overflow: hidden;text-align: left;background-color: #f0f8ff;}#sk-container-id-1 div.sk-toggleable__content pre {margin: 0.2em;color: black;border-radius: 0.25em;background-color: #f0f8ff;}#sk-container-id-1 input.sk-toggleable__control:checked~div.sk-toggleable__content {max-height: 200px;max-width: 100%;overflow: auto;}#sk-container-id-1 input.sk-toggleable__control:checked~label.sk-toggleable__label-arrow:before {content: \"▾\";}#sk-container-id-1 div.sk-estimator input.sk-toggleable__control:checked~label.sk-toggleable__label {background-color: #d4ebff;}#sk-container-id-1 div.sk-label input.sk-toggleable__control:checked~label.sk-toggleable__label {background-color: #d4ebff;}#sk-container-id-1 input.sk-hidden--visually {border: 0;clip: rect(1px 1px 1px 1px);clip: rect(1px, 1px, 1px, 1px);height: 1px;margin: -1px;overflow: hidden;padding: 0;position: absolute;width: 1px;}#sk-container-id-1 div.sk-estimator {font-family: monospace;background-color: #f0f8ff;border: 1px dotted black;border-radius: 0.25em;box-sizing: border-box;margin-bottom: 0.5em;}#sk-container-id-1 div.sk-estimator:hover {background-color: #d4ebff;}#sk-container-id-1 div.sk-parallel-item::after {content: \"\";width: 100%;border-bottom: 1px solid gray;flex-grow: 1;}#sk-container-id-1 div.sk-label:hover label.sk-toggleable__label {background-color: #d4ebff;}#sk-container-id-1 div.sk-serial::before {content: \"\";position: absolute;border-left: 1px solid gray;box-sizing: border-box;top: 0;bottom: 0;left: 50%;z-index: 0;}#sk-container-id-1 div.sk-serial {display: flex;flex-direction: column;align-items: center;background-color: white;padding-right: 0.2em;padding-left: 0.2em;position: relative;}#sk-container-id-1 div.sk-item {position: relative;z-index: 1;}#sk-container-id-1 div.sk-parallel {display: flex;align-items: stretch;justify-content: center;background-color: white;position: relative;}#sk-container-id-1 div.sk-item::before, #sk-container-id-1 div.sk-parallel-item::before {content: \"\";position: absolute;border-left: 1px solid gray;box-sizing: border-box;top: 0;bottom: 0;left: 50%;z-index: -1;}#sk-container-id-1 div.sk-parallel-item {display: flex;flex-direction: column;z-index: 1;position: relative;background-color: white;}#sk-container-id-1 div.sk-parallel-item:first-child::after {align-self: flex-end;width: 50%;}#sk-container-id-1 div.sk-parallel-item:last-child::after {align-self: flex-start;width: 50%;}#sk-container-id-1 div.sk-parallel-item:only-child::after {width: 0;}#sk-container-id-1 div.sk-dashed-wrapped {border: 1px dashed gray;margin: 0 0.4em 0.5em 0.4em;box-sizing: border-box;padding-bottom: 0.4em;background-color: white;}#sk-container-id-1 div.sk-label label {font-family: monospace;font-weight: bold;display: inline-block;line-height: 1.2em;}#sk-container-id-1 div.sk-label-container {text-align: center;}#sk-container-id-1 div.sk-container {/* jupyter's `normalize.less` sets `[hidden] { display: none; }` but bootstrap.min.css set `[hidden] { display: none !important; }` so we also need the `!important` here to be able to override the default hidden behavior on the sphinx rendered scikit-learn.org. See: https://github.com/scikit-learn/scikit-learn/issues/21755 */display: inline-block !important;position: relative;}#sk-container-id-1 div.sk-text-repr-fallback {display: none;}</style><div id=\"sk-container-id-1\" class=\"sk-top-container\"><div class=\"sk-text-repr-fallback\"><pre>NMF(n_components=5)</pre><b>In a Jupyter environment, please rerun this cell to show the HTML representation or trust the notebook. <br />On GitHub, the HTML representation is unable to render, please try loading this page with nbviewer.org.</b></div><div class=\"sk-container\" hidden><div class=\"sk-item\"><div class=\"sk-estimator sk-toggleable\"><input class=\"sk-toggleable__control sk-hidden--visually\" id=\"sk-estimator-id-1\" type=\"checkbox\" checked><label for=\"sk-estimator-id-1\" class=\"sk-toggleable__label sk-toggleable__label-arrow\">NMF</label><div class=\"sk-toggleable__content\"><pre>NMF(n_components=5)</pre></div></div></div></div></div>"
      ],
      "text/plain": [
       "NMF(n_components=5)"
      ]
     },
     "execution_count": 11,
     "metadata": {},
     "output_type": "execute_result"
    }
   ],
   "source": [
    "cv_top_mod = NMF(n_components = 5)\n",
    "cv_top_mod.fit(cv_X_train)"
   ]
  },
  {
   "cell_type": "code",
   "execution_count": 12,
   "id": "4288df03",
   "metadata": {},
   "outputs": [
    {
     "name": "stdout",
     "output_type": "stream",
     "text": [
      "Shape of W is(5, 4232)\n",
      "Shape of H is(2838, 5)\n",
      "Shape of train is(2838, 4232)\n"
     ]
    }
   ],
   "source": [
    "H = cv_top_mod.transform(cv_X_train)\n",
    "W = cv_top_mod.components_\n",
    "\n",
    "print(\"Shape of W is\" + str(W.shape))\n",
    "print(\"Shape of H is\" + str(H.shape))\n",
    "print(\"Shape of train is\" + str(cv_X_train.shape))"
   ]
  },
  {
   "cell_type": "code",
   "execution_count": 13,
   "id": "ee7952c7",
   "metadata": {},
   "outputs": [],
   "source": [
    "# 2,838 tweets in this train set\n",
    "# 4,149 features"
   ]
  },
  {
   "cell_type": "code",
   "execution_count": 14,
   "id": "0a8314a5",
   "metadata": {},
   "outputs": [
    {
     "data": {
      "text/plain": [
       "1184    panel quotstaying alive indie iphone game deve...\n",
       "2820      help clean organize newscontent great job owner\n",
       "532     give away ipad creator popular disc interactiv...\n",
       "304     first ipad didnt even exist last year already ...\n",
       "3433          get crave mind create app foodspotting link\n",
       "                              ...                        \n",
       "3052    true rt amp quotgoogle tweetquot new quotthink...\n",
       "1255    mayer come sans intro still get cheer launch g...\n",
       "774     doesnt make sense limit content specific platf...\n",
       "876     geek interactive panel ipad holler gram app us...\n",
       "30      false alarm google circle come nowand probably...\n",
       "Name: norm_tweet, Length: 2838, dtype: object"
      ]
     },
     "execution_count": 14,
     "metadata": {},
     "output_type": "execute_result"
    }
   ],
   "source": [
    "X_train"
   ]
  },
  {
   "cell_type": "code",
   "execution_count": 21,
   "id": "a4531157",
   "metadata": {},
   "outputs": [
    {
     "name": "stdout",
     "output_type": "stream",
     "text": [
      "[[(0, 1), (1, 1), (2, 1), (3, 1), (4, 1), (5, 1), (6, 1), (7, 1)]]\n",
      "Dictionary<4702 unique tokens: ['dead', 'hr', 'iphone', 'need', 'plugin']...>\n"
     ]
    }
   ],
   "source": [
    "texts = df['norm_tweet'].tolist()\n",
    "\n",
    "token_text = [word_tokenize(text) for text in texts]\n",
    "\n",
    "id2word = corpora.Dictionary(token_text)\n",
    "\n",
    "corpus = [id2word.doc2bow(text) for text in token_text]\n",
    "\n",
    "print(corpus[:1])\n",
    "print(id2word)"
   ]
  },
  {
   "cell_type": "code",
   "execution_count": 28,
   "id": "e069a97b",
   "metadata": {},
   "outputs": [],
   "source": [
    "#creating object for LDA model using gensim\n",
    "Lda = gensim.models.ldamodel.LdaModel"
   ]
  },
  {
   "cell_type": "code",
   "execution_count": 31,
   "id": "3b12dd70",
   "metadata": {},
   "outputs": [],
   "source": [
    "#running & training lda model on corpus\n",
    "\n",
    "ldamodel = Lda(corpus, num_topics = 2, id2word = id2word, passes =1, random_state = 0, eval_every = None)"
   ]
  },
  {
   "cell_type": "code",
   "execution_count": 33,
   "id": "06fe9b7c",
   "metadata": {},
   "outputs": [
    {
     "data": {
      "text/plain": [
       "[(0,\n",
       "  '0.043*\"rt\" + 0.036*\"link\" + 0.029*\"ipad\" + 0.027*\"google\" + 0.023*\"iphone\" + 0.016*\"app\" + 0.016*\"new\" + 0.011*\"get\" + 0.010*\"apple\" + 0.008*\"store\"'),\n",
       " (1,\n",
       "  '0.035*\"apple\" + 0.034*\"link\" + 0.033*\"rt\" + 0.025*\"ipad\" + 0.024*\"store\" + 0.014*\"austin\" + 0.013*\"google\" + 0.012*\"popup\" + 0.010*\"open\" + 0.008*\"come\"')]"
      ]
     },
     "execution_count": 33,
     "metadata": {},
     "output_type": "execute_result"
    }
   ],
   "source": [
    "ldamodel.print_topics()"
   ]
  },
  {
   "cell_type": "markdown",
   "id": "28090789",
   "metadata": {},
   "source": [
    "#### Logistic Regression"
   ]
  },
  {
   "cell_type": "code",
   "execution_count": null,
   "id": "188dca40",
   "metadata": {},
   "outputs": [],
   "source": []
  },
  {
   "cell_type": "code",
   "execution_count": null,
   "id": "6021f2d0",
   "metadata": {},
   "outputs": [],
   "source": []
  },
  {
   "cell_type": "markdown",
   "id": "d1d24bc6",
   "metadata": {},
   "source": [
    "### TfidfVectorizer"
   ]
  },
  {
   "cell_type": "code",
   "execution_count": null,
   "id": "0ff2a7ef",
   "metadata": {},
   "outputs": [],
   "source": [
    "vec = TfidfVectorizer()\n",
    "vec.fit(X_train)\n",
    "\n",
    "X_train_vec = vec.transform(X_train)\n",
    "X_test_vec = vec.transform(X_test)\n",
    "\n",
    "vec.get_feature_names_out()"
   ]
  },
  {
   "cell_type": "code",
   "execution_count": null,
   "id": "e42e8c73",
   "metadata": {},
   "outputs": [],
   "source": []
  }
 ],
 "metadata": {
  "kernelspec": {
   "display_name": "Python 3 (ipykernel)",
   "language": "python",
   "name": "python3"
  },
  "language_info": {
   "codemirror_mode": {
    "name": "ipython",
    "version": 3
   },
   "file_extension": ".py",
   "mimetype": "text/x-python",
   "name": "python",
   "nbconvert_exporter": "python",
   "pygments_lexer": "ipython3",
   "version": "3.10.9"
  }
 },
 "nbformat": 4,
 "nbformat_minor": 5
}
